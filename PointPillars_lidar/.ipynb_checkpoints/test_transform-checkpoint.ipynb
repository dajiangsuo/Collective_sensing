{
 "cells": [
  {
   "cell_type": "code",
   "execution_count": 19,
   "id": "e5a5fdde",
   "metadata": {},
   "outputs": [],
   "source": [
    "import os\n",
    "data_root = os.getcwd()\n",
    "label_path = label_path = os.path.join(data_root, 'training', 'lidar', f'{75469:06d}.yaml')"
   ]
  },
  {
   "cell_type": "code",
   "execution_count": 20,
   "id": "5ca102d4",
   "metadata": {},
   "outputs": [
    {
     "name": "stdout",
     "output_type": "stream",
     "text": [
      "C:\\simulator\\Collective_sensing\\PointPillars_lidar\n"
     ]
    }
   ],
   "source": [
    "print(os.getcwd())"
   ]
  },
  {
   "cell_type": "code",
   "execution_count": 33,
   "id": "b23eb228",
   "metadata": {},
   "outputs": [
    {
     "data": {
      "text/plain": [
       "[-47.5255126953125,\n",
       " -10.45819091796875,\n",
       " 5.555450439453125,\n",
       " 0.0,\n",
       " -90.48019409179688,\n",
       " 0.0]"
      ]
     },
     "execution_count": 33,
     "metadata": {},
     "output_type": "execute_result"
    }
   ],
   "source": [
    "import yaml\n",
    "with open(label_path, 'r') as f:\n",
    "        data=yaml.safe_load(f)\n",
    "annotation = {}\n",
    "annotation['P0']=data['lidar0_pose']\n",
    "annotation['P1']=data['lidar1_pose']\n",
    "annotation['P2']=data['lidar2_pose']\n",
    "annotation['P3']=data['lidar3_pose']\n",
    "#data['lidar0_pose']\n",
    "lidar_pose_ref = annotation['P0']\n",
    "lidar_pose_ref"
   ]
  },
  {
   "cell_type": "code",
   "execution_count": 25,
   "id": "f21faba8",
   "metadata": {},
   "outputs": [],
   "source": [
    "v = data['vehicles']"
   ]
  },
  {
   "cell_type": "code",
   "execution_count": 28,
   "id": "e4d8fe04",
   "metadata": {},
   "outputs": [],
   "source": [
    "v = v[146]"
   ]
  },
  {
   "cell_type": "code",
   "execution_count": 29,
   "id": "ff5db090",
   "metadata": {},
   "outputs": [
    {
     "data": {
      "text/plain": [
       "{'angle': [0.0, -90.34283447265625, 0.0],\n",
       " 'center': [0.004043041728436947, -2.1788478079542983e-06, 0.718859851360321],\n",
       " 'extent': [2.4508416652679443, 1.0641621351242065, 0.7553732395172119],\n",
       " 'location': [-44.17448043823242, -35.31916046142578, 0.05999999865889549]}"
      ]
     },
     "execution_count": 29,
     "metadata": {},
     "output_type": "execute_result"
    }
   ],
   "source": [
    "v"
   ]
  },
  {
   "cell_type": "code",
   "execution_count": 30,
   "id": "9a4aab0e",
   "metadata": {},
   "outputs": [
    {
     "data": {
      "text/plain": [
       "[-44.17448043823242, -35.31916046142578, 0.05999999865889549]"
      ]
     },
     "execution_count": 30,
     "metadata": {},
     "output_type": "execute_result"
    }
   ],
   "source": [
    "location_in_carlaworld = v['location']\n",
    "location_in_carlaworld"
   ]
  },
  {
   "cell_type": "code",
   "execution_count": null,
   "id": "d6a2de4c",
   "metadata": {},
   "outputs": [],
   "source": [
    "# convention in roll/yaw/pitch (rotation in with x axis/z axis/y axisLhttps://carla.readthedocs.io/en/latest/python_api/#carla.Rotation)\n",
    "rotation_in_carlaworld = v['']"
   ]
  },
  {
   "cell_type": "code",
   "execution_count": null,
   "id": "c9865243",
   "metadata": {},
   "outputs": [],
   "source": [
    "import numpy as np\n",
    "import math\n",
    "\n",
    "def x_to_world(pose):\n",
    "    \"\"\"\n",
    "    The transformation matrix from x-coordinate system to carla world system\n",
    "    Parameters\n",
    "    ----------\n",
    "    pose : list\n",
    "        [x, y, z, roll, yaw, pitch]\n",
    "    Returns\n",
    "    -------\n",
    "    matrix : np.ndarray\n",
    "        The transformation matrix.\n",
    "    \"\"\"\n",
    "    x, y, z, roll, yaw, pitch = pose[:]\n",
    "\n",
    "    # used for rotation matrix\n",
    "    c_y = np.cos(np.radians(yaw))\n",
    "    s_y = np.sin(np.radians(yaw))\n",
    "    c_r = np.cos(np.radians(roll))\n",
    "    s_r = np.sin(np.radians(roll))\n",
    "    c_p = np.cos(np.radians(pitch))\n",
    "    s_p = np.sin(np.radians(pitch))\n",
    "\n",
    "    matrix = np.identity(4)\n",
    "    # translation matrix\n",
    "    matrix[0, 3] = x\n",
    "    matrix[1, 3] = y\n",
    "    matrix[2, 3] = z\n",
    "\n",
    "    # rotation matrix\n",
    "    matrix[0, 0] = c_p * c_y\n",
    "    matrix[0, 1] = c_y * s_p * s_r - s_y * c_r\n",
    "    matrix[0, 2] = -c_y * s_p * c_r - s_y * s_r\n",
    "    matrix[1, 0] = s_y * c_p\n",
    "    matrix[1, 1] = s_y * s_p * s_r + c_y * c_r\n",
    "    matrix[1, 2] = -s_y * s_p * c_r + c_y * s_r\n",
    "    matrix[2, 0] = s_p\n",
    "    matrix[2, 1] = -c_p * s_r\n",
    "    matrix[2, 2] = c_p * c_r\n",
    "\n",
    "    return matrix\n",
    "\n",
    "def location_carlaworld2lidar(location_in_carlaworld,lidar_pose):\n",
    "    \"\"\"\n",
    "    project locations in carld world coordinates to lidar coordinate\n",
    "    Note lidar can be substitute by the pose of any objects under carla world \n",
    "\n",
    "    \"\"\"\n",
    "    lidar_to_world_transform = x_to_world(lidar_pose)\n",
    "    world_to_lidar_transform = np.linalg.inv(lidar_to_world_transform)\n",
    "\n",
    "    location_in_lidar = \n",
    "\n",
    "    return location_in_lidar"
   ]
  },
  {
   "cell_type": "code",
   "execution_count": null,
   "id": "e27865fc",
   "metadata": {},
   "outputs": [],
   "source": []
  }
 ],
 "metadata": {
  "kernelspec": {
   "display_name": "opencood",
   "language": "python",
   "name": "opencood"
  },
  "language_info": {
   "codemirror_mode": {
    "name": "ipython",
    "version": 3
   },
   "file_extension": ".py",
   "mimetype": "text/x-python",
   "name": "python",
   "nbconvert_exporter": "python",
   "pygments_lexer": "ipython3",
   "version": "3.7.12"
  }
 },
 "nbformat": 4,
 "nbformat_minor": 5
}

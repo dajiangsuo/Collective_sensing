{
 "cells": [
  {
   "cell_type": "code",
   "execution_count": 8,
   "id": "e5a5fdde",
   "metadata": {},
   "outputs": [],
   "source": [
    "import os\n",
    "import numpy as np\n",
    "import math\n",
    "\n",
    "data_root = os.getcwd()\n",
    "label_path = label_path = os.path.join(data_root, 'training', 'lidar', f'{75469:06d}.yaml')"
   ]
  },
  {
   "cell_type": "code",
   "execution_count": 9,
   "id": "b23eb228",
   "metadata": {},
   "outputs": [
    {
     "data": {
      "text/plain": [
       "[-47.5255126953125,\n",
       " -10.45819091796875,\n",
       " 5.555450439453125,\n",
       " 0.0,\n",
       " -90.48019409179688,\n",
       " 0.0]"
      ]
     },
     "execution_count": 9,
     "metadata": {},
     "output_type": "execute_result"
    }
   ],
   "source": [
    "import yaml\n",
    "with open(label_path, 'r') as f:\n",
    "        data=yaml.safe_load(f)\n",
    "annotation = {}\n",
    "annotation['P0']=data['lidar0_pose']\n",
    "annotation['P1']=data['lidar1_pose']\n",
    "annotation['P2']=data['lidar2_pose']\n",
    "annotation['P3']=data['lidar3_pose']\n",
    "#data['lidar0_pose']\n",
    "lidar_pose_ref = annotation['P0']\n",
    "lidar_pose_ref"
   ]
  },
  {
   "cell_type": "code",
   "execution_count": 10,
   "id": "f21faba8",
   "metadata": {},
   "outputs": [
    {
     "data": {
      "text/plain": [
       "{'angle': [0.0, -90.34283447265625, 0.0],\n",
       " 'center': [0.004043041728436947, -2.1788478079542983e-06, 0.718859851360321],\n",
       " 'extent': [2.4508416652679443, 1.0641621351242065, 0.7553732395172119],\n",
       " 'location': [-44.17448043823242, -35.31916046142578, 0.05999999865889549]}"
      ]
     },
     "execution_count": 10,
     "metadata": {},
     "output_type": "execute_result"
    }
   ],
   "source": [
    "v = data['vehicles']\n",
    "v = v[146]\n",
    "v"
   ]
  },
  {
   "cell_type": "code",
   "execution_count": 22,
   "id": "0a89e90a",
   "metadata": {},
   "outputs": [
    {
     "data": {
      "text/plain": [
       "(4, 8)"
      ]
     },
     "execution_count": 22,
     "metadata": {},
     "output_type": "execute_result"
    }
   ],
   "source": [
    "# testing bounding box\n",
    "def create_bbx(extent):\n",
    "    \"\"\"\n",
    "    Create bounding box with 8 corners under obstacle vehicle reference.\n",
    "    Parameters\n",
    "    ----------\n",
    "    extent : list\n",
    "        Width, height, length of the bbx.\n",
    "    Returns\n",
    "    -------\n",
    "    bbx : np.array\n",
    "        The bounding box with 8 corners, shape: (8, 3)\n",
    "    \"\"\"\n",
    "\n",
    "    bbx = np.array([[extent[0], -extent[1], -extent[2]],\n",
    "                    [extent[0], extent[1], -extent[2]],\n",
    "                    [-extent[0], extent[1], -extent[2]],\n",
    "                    [-extent[0], -extent[1], -extent[2]],\n",
    "                    [extent[0], -extent[1], extent[2]],\n",
    "                    [extent[0], extent[1], extent[2]],\n",
    "                    [-extent[0], extent[1], extent[2]],\n",
    "                    [-extent[0], -extent[1], extent[2]]])\n",
    "\n",
    "    return bbx\n",
    "extent = v['extent']\n",
    "# shape (3, 8)\n",
    "bbx = create_bbx(extent).T\n",
    "# bounding box under ego coordinate shape (4, 8)\n",
    "bbx = np.r_[bbx, [np.ones(bbx.shape[1])]]\n",
    "bbx.shape"
   ]
  },
  {
   "cell_type": "code",
   "execution_count": 17,
   "id": "51ef16c2",
   "metadata": {},
   "outputs": [
    {
     "data": {
      "text/plain": [
       "(4, 4)"
      ]
     },
     "execution_count": 17,
     "metadata": {},
     "output_type": "execute_result"
    }
   ],
   "source": [
    "def x_to_world(pose):\n",
    "    \"\"\"\n",
    "    The transformation matrix from x-coordinate system to carla world system\n",
    "    Parameters\n",
    "    ----------\n",
    "    pose : list\n",
    "        [x, y, z, roll, yaw, pitch]\n",
    "    Returns\n",
    "    -------\n",
    "    matrix : np.ndarray\n",
    "        The transformation matrix.\n",
    "    \"\"\"\n",
    "    x, y, z, roll, yaw, pitch = pose[:]\n",
    "\n",
    "    # used for rotation matrix\n",
    "    c_y = np.cos(np.radians(yaw))\n",
    "    s_y = np.sin(np.radians(yaw))\n",
    "    c_r = np.cos(np.radians(roll))\n",
    "    s_r = np.sin(np.radians(roll))\n",
    "    c_p = np.cos(np.radians(pitch))\n",
    "    s_p = np.sin(np.radians(pitch))\n",
    "\n",
    "    matrix = np.identity(4)\n",
    "    # translation matrix\n",
    "    matrix[0, 3] = x\n",
    "    matrix[1, 3] = y\n",
    "    matrix[2, 3] = z\n",
    "\n",
    "    # rotation matrix\n",
    "    matrix[0, 0] = c_p * c_y\n",
    "    matrix[0, 1] = c_y * s_p * s_r - s_y * c_r\n",
    "    matrix[0, 2] = -c_y * s_p * c_r - s_y * s_r\n",
    "    matrix[1, 0] = s_y * c_p\n",
    "    matrix[1, 1] = s_y * s_p * s_r + c_y * c_r\n",
    "    matrix[1, 2] = -s_y * s_p * c_r + c_y * s_r\n",
    "    matrix[2, 0] = s_p\n",
    "    matrix[2, 1] = -c_p * s_r\n",
    "    matrix[2, 2] = c_p * c_r\n",
    "\n",
    "    return matrix\n",
    "\n",
    "lidar_to_world_transform = x_to_world(lidar_pose_ref)\n",
    "world_to_lidar_transform = np.linalg.inv(lidar_to_world_transform)\n",
    "world_to_lidar_transform.shape"
   ]
  },
  {
   "cell_type": "code",
   "execution_count": 24,
   "id": "0d814bc2",
   "metadata": {},
   "outputs": [
    {
     "data": {
      "text/plain": [
       "(1, 8, 3)"
      ]
     },
     "execution_count": 24,
     "metadata": {},
     "output_type": "execute_result"
    }
   ],
   "source": [
    "\"\"\"\n",
    "# https://github.com/DerrickXuNu/OpenCOOD/blob/84703477cdf57f61056f1a646e4b0a167f7a77d7/opencood/utils/box_utils.py#L435\n",
    "bbx_lidar = np.dot(world_to_lidar_transform, bbx).T\n",
    "bbx_lidar.shape\n",
    "bbx_lidar = np.expand_dims(bbx_lidar[:, :3], 0)\n",
    "bbx_lidar.shape\n",
    "\"\"\"\""
   ]
  },
  {
   "cell_type": "code",
   "execution_count": 43,
   "id": "535387c3",
   "metadata": {},
   "outputs": [
    {
     "data": {
      "text/plain": [
       "[-44.17448043823242, -35.31916046142578, 0.05999999865889549]"
      ]
     },
     "execution_count": 43,
     "metadata": {},
     "output_type": "execute_result"
    }
   ],
   "source": [
    "location_in_carlaworld = v['location']\n",
    "location_in_carlaworld"
   ]
  },
  {
   "cell_type": "code",
   "execution_count": 35,
   "id": "9a4aab0e",
   "metadata": {},
   "outputs": [
    {
     "data": {
      "text/plain": [
       "array([[-44.17448044],\n",
       "       [-35.31916046],\n",
       "       [  0.06      ],\n",
       "       [  1.        ]])"
      ]
     },
     "execution_count": 35,
     "metadata": {},
     "output_type": "execute_result"
    }
   ],
   "source": [
    "location_in_carlaworld = v['location']\n",
    "location_in_carlaworld = location_in_carlaworld +[1]\n",
    "location_in_carlaworld = np.array(location_in_carlaworld)\n",
    "location_in_carlaworld = np.expand_dims(location_in_carlaworld, axis=0).T\n",
    "location_in_carlaworld.shape\n",
    "location_in_carlaworld"
   ]
  },
  {
   "cell_type": "code",
   "execution_count": 37,
   "id": "7c8bc885",
   "metadata": {},
   "outputs": [
    {
     "name": "stdout",
     "output_type": "stream",
     "text": [
      "[[-44.17448044]\n",
      " [-35.31916046]\n",
      " [  0.06      ]\n",
      " [  1.        ]]\n",
      "[-47.5255126953125, -10.45819091796875, 5.555450439453125, 0.0, -90.48019409179688, 0.0]\n",
      "[[24.83201186]\n",
      " [ 3.55927112]\n",
      " [-5.49545044]\n",
      " [ 1.        ]]\n"
     ]
    }
   ],
   "source": [
    "location_in_lidar = np.dot(world_to_lidar_transform,location_in_carlaworld)\n",
    "print(location_in_carlaworld)\n",
    "print(lidar_pose_ref)\n",
    "print(location_in_lidar)"
   ]
  },
  {
   "cell_type": "code",
   "execution_count": 66,
   "id": "8db0b472",
   "metadata": {},
   "outputs": [
    {
     "data": {
      "text/plain": [
       "24.832011858398058"
      ]
     },
     "execution_count": 66,
     "metadata": {},
     "output_type": "execute_result"
    }
   ],
   "source": [
    "location_in_lidar.shape\n",
    "location_in_lidar_squeeze = location_in_lidar.squeeze()\n",
    "location_in_lidar_squeeze.shape\n",
    "location_in_lidar_x = location_in_lidar_squeeze[0]\n",
    "location_in_lidar_x\n",
    "\n",
    "#location_in_lidar_y = list(location_in_lidar[1].squeeze())\n",
    "#location_in_lidar_z = list(location_in_lidar[2].squeeze())\n",
    "#location_in_lidar_list = location_in_lidar_x+location_in_lidar_y+location_in_lidar_z"
   ]
  },
  {
   "cell_type": "code",
   "execution_count": null,
   "id": "d6a2de4c",
   "metadata": {},
   "outputs": [],
   "source": [
    "# convention in roll/yaw/pitch (rotation in with x axis/z axis/y axisLhttps://carla.readthedocs.io/en/latest/python_api/#carla.Rotation)\n",
    "rotation_in_carlaworld = v['']"
   ]
  },
  {
   "cell_type": "code",
   "execution_count": null,
   "id": "c9865243",
   "metadata": {},
   "outputs": [],
   "source": [
    "\n",
    "\n",
    "def x_to_world(pose):\n",
    "    \"\"\"\n",
    "    The transformation matrix from x-coordinate system to carla world system\n",
    "    Parameters\n",
    "    ----------\n",
    "    pose : list\n",
    "        [x, y, z, roll, yaw, pitch]\n",
    "    Returns\n",
    "    -------\n",
    "    matrix : np.ndarray\n",
    "        The transformation matrix.\n",
    "    \"\"\"\n",
    "    x, y, z, roll, yaw, pitch = pose[:]\n",
    "\n",
    "    # used for rotation matrix\n",
    "    c_y = np.cos(np.radians(yaw))\n",
    "    s_y = np.sin(np.radians(yaw))\n",
    "    c_r = np.cos(np.radians(roll))\n",
    "    s_r = np.sin(np.radians(roll))\n",
    "    c_p = np.cos(np.radians(pitch))\n",
    "    s_p = np.sin(np.radians(pitch))\n",
    "\n",
    "    matrix = np.identity(4)\n",
    "    # translation matrix\n",
    "    matrix[0, 3] = x\n",
    "    matrix[1, 3] = y\n",
    "    matrix[2, 3] = z\n",
    "\n",
    "    # rotation matrix\n",
    "    matrix[0, 0] = c_p * c_y\n",
    "    matrix[0, 1] = c_y * s_p * s_r - s_y * c_r\n",
    "    matrix[0, 2] = -c_y * s_p * c_r - s_y * s_r\n",
    "    matrix[1, 0] = s_y * c_p\n",
    "    matrix[1, 1] = s_y * s_p * s_r + c_y * c_r\n",
    "    matrix[1, 2] = -s_y * s_p * c_r + c_y * s_r\n",
    "    matrix[2, 0] = s_p\n",
    "    matrix[2, 1] = -c_p * s_r\n",
    "    matrix[2, 2] = c_p * c_r\n",
    "\n",
    "    return matrix\n",
    "\n",
    "def location_carlaworld2lidar(location_in_carlaworld,lidar_pose):\n",
    "    \"\"\"\n",
    "    project locations in carld world coordinates to lidar coordinate\n",
    "    Note lidar can be substitute by the pose of any objects under carla world \n",
    "\n",
    "    \"\"\"\n",
    "    lidar_to_world_transform = x_to_world(lidar_pose)\n",
    "    world_to_lidar_transform = np.linalg.inv(lidar_to_world_transform)\n",
    "\n",
    "    location_in_lidar = \n",
    "\n",
    "    return location_in_lidar"
   ]
  },
  {
   "cell_type": "code",
   "execution_count": 1,
   "id": "e27865fc",
   "metadata": {},
   "outputs": [
    {
     "ename": "NameError",
     "evalue": "name 'v' is not defined",
     "output_type": "error",
     "traceback": [
      "\u001b[1;31m---------------------------------------------------------------------------\u001b[0m",
      "\u001b[1;31mNameError\u001b[0m                                 Traceback (most recent call last)",
      "\u001b[1;32m~\\AppData\\Local\\Temp\\ipykernel_33436\\2585627233.py\u001b[0m in \u001b[0;36m<module>\u001b[1;34m\u001b[0m\n\u001b[0;32m     23\u001b[0m \u001b[1;33m\u001b[0m\u001b[0m\n\u001b[0;32m     24\u001b[0m     \u001b[1;32mreturn\u001b[0m \u001b[0mbbx\u001b[0m\u001b[1;33m\u001b[0m\u001b[1;33m\u001b[0m\u001b[0m\n\u001b[1;32m---> 25\u001b[1;33m \u001b[0mextent\u001b[0m \u001b[1;33m=\u001b[0m \u001b[0mv\u001b[0m\u001b[1;33m[\u001b[0m\u001b[1;34m'extent'\u001b[0m\u001b[1;33m]\u001b[0m\u001b[1;33m\u001b[0m\u001b[1;33m\u001b[0m\u001b[0m\n\u001b[0m\u001b[0;32m     26\u001b[0m \u001b[1;31m# shape (3, 8)\u001b[0m\u001b[1;33m\u001b[0m\u001b[1;33m\u001b[0m\u001b[1;33m\u001b[0m\u001b[0m\n\u001b[0;32m     27\u001b[0m \u001b[0mbbx\u001b[0m \u001b[1;33m=\u001b[0m \u001b[0mcreate_bbx\u001b[0m\u001b[1;33m(\u001b[0m\u001b[0mextent\u001b[0m\u001b[1;33m)\u001b[0m\u001b[1;33m.\u001b[0m\u001b[0mT\u001b[0m\u001b[1;33m\u001b[0m\u001b[1;33m\u001b[0m\u001b[0m\n",
      "\u001b[1;31mNameError\u001b[0m: name 'v' is not defined"
     ]
    }
   ],
   "source": []
  },
  {
   "cell_type": "code",
   "execution_count": null,
   "id": "41d19151",
   "metadata": {},
   "outputs": [],
   "source": []
  }
 ],
 "metadata": {
  "kernelspec": {
   "display_name": "opencood",
   "language": "python",
   "name": "opencood"
  },
  "language_info": {
   "codemirror_mode": {
    "name": "ipython",
    "version": 3
   },
   "file_extension": ".py",
   "mimetype": "text/x-python",
   "name": "python",
   "nbconvert_exporter": "python",
   "pygments_lexer": "ipython3",
   "version": "3.7.12"
  }
 },
 "nbformat": 4,
 "nbformat_minor": 5
}
